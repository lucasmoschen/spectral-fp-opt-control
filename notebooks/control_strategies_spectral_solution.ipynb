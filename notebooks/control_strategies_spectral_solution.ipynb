{
 "cells": [
  {
   "cell_type": "markdown",
   "id": "54070958-02bd-4605-9254-5f15b6962a29",
   "metadata": {},
   "source": [
    "# Control strategies for Fokker-Planck equation\n",
    "\n",
    "The Fokker-Planck equation studied is \n",
    "$$\n",
    "\\rho_t = \\nabla \\cdot (\\nu \\nabla \\rho + \\rho \\nabla V), x \\in \\Omega, t \\ge 0,\n",
    "$$\n",
    "where $J(x,t) = \\nu \\nabla \\rho(x,t) + \\rho(x,t) \\nabla V(x,t)$ is the probability flux and \n",
    "$$\n",
    "V(x,t) = G(x) + \\alpha(x) u(t),\n",
    "$$\n",
    "where $G$ is the potential function, $\\alpha$ is the control shape function and $u$ is the time-dependent control function.\n",
    "Moreover, the probability flux is zero in the boundary, that is\n",
    "$$\n",
    "(\\nu \\nabla \\rho(x,t) + \\rho(x,t) \\nabla G(x)) \\cdot \\vec{n} = 0, \\nabla \\alpha \\cdot \\vec{n} = 0, x \\in \\partial \\Omega, t \\ge 0.\n",
    "$$\n",
    "\n",
    "The uncontrolled version converges to the distribution \n",
    "$$\n",
    "\\rho_{\\infty}(x) \\propto e^{-G(x)/\\nu}.\n",
    "$$"
   ]
  },
  {
   "cell_type": "code",
   "execution_count": 1,
   "id": "20510dfe-4cec-44a1-899d-9016e822d452",
   "metadata": {
    "collapsed": true
   },
   "outputs": [],
   "source": [
    "import numpy as np\n",
    "\n",
    "from scipy.integrate import quad, solve_ivp, ode\n",
    "from scipy.stats import norm, truncnorm, beta\n",
    "from scipy.linalg import solve_banded, solve_continuous_are\n",
    "from scipy.special import legendre\n",
    "from scipy.interpolate import lagrange\n",
    "from scipy.optimize import newton\n",
    "\n",
    "import matplotlib.pyplot as plt\n",
    "from tqdm import tqdm"
   ]
  },
  {
   "cell_type": "markdown",
   "id": "35a71bf8-4bd4-43a4-9ca1-f0e998903ee6",
   "metadata": {},
   "source": [
    "Define \n",
    "$$\n",
    "y(x,t) = \\rho(x,t) - \\rho_{\\infty}(x),\n",
    "$$\n",
    "and we get the equation \n",
    "$$\n",
    "y_t = \\nabla \\cdot (\\nu \\nabla y + y \\nabla G) + u(t) \\nabla \\cdot (y \\nabla \\alpha + \\rho_{\\infty} \\nabla \\alpha),\n",
    "$$\n",
    "with $\\nabla \\cdot (\\nu \\nabla y + y \\nabla G) = 0$ in the boundary.\n",
    "\n",
    "The bilinear abstract control system is\n",
    "$$\n",
    "\\dot{y} = \\mathcal{A}y + u\\mathcal{N}y + \\mathcal{B}u.\n",
    "$$"
   ]
  },
  {
   "cell_type": "markdown",
   "id": "e8ac6a53-f954-4398-ab20-eded36f25f16",
   "metadata": {},
   "source": [
    "The weak formulation of this equation is $\\forall \\phi \\in H^1(\\Omega),$\n",
    "\n",
    "$$\n",
    "\\langle \\dot{y}, \\phi \\rangle = \\langle \\mathcal{A}y, \\phi \\rangle + u\\langle \\mathcal{N}y, \\phi \\rangle + \\langle \\mathcal{B}u, \\phi\\rangle\n",
    "$$\n",
    "\n",
    "and using Integration by Parts,\n",
    "\n",
    "$$\n",
    "\\langle y_t, \\phi \\rangle = - \\langle \\nu \\nabla y + y \\nabla G, \\nabla \\phi \\rangle - u(t) \\langle y \\nabla \\alpha, \\nabla \\phi \\rangle - u(t) \\langle \\rho_{\\infty} \\nabla \\alpha, \\nabla \\phi \\rangle,\n",
    "$$\n",
    "\n",
    "We consider an approximation \n",
    "$$\n",
    "y(x,t) \\approx \\sum_{j=0}^{n-2} y_j(t) \\phi_j(x),\n",
    "$$\n",
    "\n",
    "where $\\phi_j(x) = L_j(x) + \\alpha_j(x) L_{j+1}(x) + \\beta L_{j+2}(x)$ and $L_k$ is the Legendre polynomial of order $k$."
   ]
  },
  {
   "cell_type": "code",
   "execution_count": 2,
   "id": "0b74e269-bc13-4359-9ee0-cf61b76e1de8",
   "metadata": {
    "collapsed": true
   },
   "outputs": [],
   "source": [
    "class ControlFPequation:\n",
    "    \n",
    "    def __init__(self, G_func, alpha_func, parameters) -> None:\n",
    "        \n",
    "        self.G = G_func\n",
    "        self.G_x = None\n",
    "        self.alpha = alpha_func\n",
    "        self.alpha_x = None\n",
    "        self.v = parameters['v']\n",
    "        self.T = parameters['T']\n",
    "        self.p0 = parameters['p_0']\n",
    "        self.p_infty = self._calculus_steady_state()\n",
    "        \n",
    "        self.Phi = None\n",
    "        self.A = None\n",
    "        self.y0 = None\n",
    "\n",
    "    def _calculus_steady_state(self):\n",
    "\n",
    "        c = 1/quad(lambda x: np.exp(-self.G(x)/self.v), a=-1.0, b=1.0)[0]\n",
    "        p_infty = lambda x: c*np.exp(-self.G(x)/self.v)\n",
    "        return p_infty\n",
    "    \n",
    "    def _update_with_boundary_conditions(self, i, j, M):\n",
    "        aux = M[i,j] + self.coef[i,0]*M[i+1,j] + self.coef[i,1]*M[i+2,j] \n",
    "        aux += self.coef[j,0]*M[i,j+1] + self.coef[i,0]*self.coef[j,0]*M[i+1,j+1] + self.coef[i,1]*self.coef[j,0]*M[i+2,j+1]\n",
    "        aux += self.coef[j,1]*M[i,j+2] + self.coef[i,0]*self.coef[j,1]*M[i+1,j+2] + self.coef[i,1]*self.coef[j,1]*M[i+2,j+2]\n",
    "        return aux"
   ]
  },
  {
   "cell_type": "markdown",
   "id": "60ea93b9-da3f-47e2-a83c-2a5bcb3c0f6e",
   "metadata": {},
   "source": [
    "Now we discretize the operators:\n",
    "\n",
    "$$\n",
    "\\sum_{j=0}^{n-2} \\dot{y}_j(t) \\langle \\phi_j, \\phi_i \\rangle = \\sum_{j=0}^{n-2} y_j(t) \\langle \\mathcal{A}\\phi_j, \\phi_i \\rangle + u(t) \\sum_{j=0}^{n-2} y_j(t) \\langle \\mathcal{N}\\phi_j, \\phi_i \\rangle + \\langle \\mathcal{B}u(t), \\phi_i\\rangle, \n",
    "$$\n",
    "\n",
    "which can be rewritten as \n",
    "\n",
    "$$\n",
    "\\Phi \\dot{y} = Ay + uNy + Bu,\n",
    "$$\n",
    "\n",
    "or using Integration by Parts\n",
    "$$\n",
    "\\sum_{j=0}^{n-2} \\dot{y}_j(t) \\langle \\phi_j, \\phi_i \\rangle = - \\sum_{j=0}^{n-2} y_j(t) \\langle \\nu \\nabla \\phi_j + \\phi_j \\nabla G, \\nabla \\phi_i \\rangle - u(t) \\sum_{j=0}^{n-2} y_j(t) \\langle \\phi_j \\nabla \\alpha, \\nabla \\phi_i \\rangle - u(t) \\langle \\rho_{\\infty} \\nabla \\alpha, \\nabla \\phi_i \\rangle.\n",
    "$$\n",
    "\n",
    "Moreover, we want to $\\phi_i$ to verify the boundary condition at $\\pm 1$, that is, \n",
    "\n",
    "$$\n",
    "\\nu \\dot{\\phi}_j(\\pm 1) + \\phi_j(\\pm 1) \\dot{G}(\\pm 1) = 0, \\forall j=0,\\dots,n-2,\n",
    "$$\n",
    "\n",
    "which defines the coefficients $\\alpha_j, \\beta_j$.\n",
    "\n",
    "One additional observation is that \n",
    "\n",
    "$$\n",
    "\\int_{\\Omega} y(x,t) \\, dx = 0, \\forall t \\ge 0.\n",
    "$$\n",
    "\n",
    "by definition.\n",
    "The approximation for $y$ implies\n",
    "$$\n",
    "\\int_{-1}^1 \\sum_{j=0}^{n-2} y_j(t) \\phi_j(x) \\, dx = \\sum_{j=0}^{n-2} y_j(t) \\left[\\int_{-1}^1 \\phi_j(x) \\, dx  + \\alpha_j \\int_{-1}^1 \\phi_{j+1}(x) \\, dx + \\beta_j \\int_{-1}^1 \\phi_{j+2}(x) \\, dx \\right] = 2 y_0(t).\n",
    "$$\n",
    "\n",
    "So, for approximation of $y$, we might not consider the Legendre polynomial of order $0$."
   ]
  },
  {
   "cell_type": "code",
   "execution_count": 64,
   "id": "012e76f1-2298-4580-a8d8-740f96d8ce45",
   "metadata": {
    "collapsed": true
   },
   "outputs": [],
   "source": [
    "def _solve_system_coefs_spectral_legendre(self, n_f, Gxl, Gxu):\n",
    "    coef = np.zeros((n_f-1,2))\n",
    "    for k in range(n_f-1):\n",
    "        M = np.array([\n",
    "            [self.v*(k+1)*(k+2) - 2*Gxl, -self.v*(k+2)*(k+3) + 2*Gxl],\n",
    "            [self.v*(k+1)*(k+2) + 2*Gxu, self.v*(k+2)*(k+3) + 2*Gxu],\n",
    "        ])\n",
    "        m = np.array([self.v*k*(k+1) - 2*Gxl, -self.v*k*(k+1) - 2*Gxu])\n",
    "        coef[k] = np.linalg.solve(M, m)\n",
    "    return coef\n",
    "\n",
    "def _discretize_Phi(self, n_f):\n",
    "    L = np.diag(2/(2*np.linspace(0,n_f,n_f+1)+1))\n",
    "    Phi = np.zeros((n_f-1, n_f-1))\n",
    "    for i in range(n_f-1):\n",
    "        for j in range(n_f-1):\n",
    "            Phi[i,j] = self._update_with_boundary_conditions(i, j, L)\n",
    "    return Phi\n",
    "\n",
    "def _discretize_A(self,n_f):\n",
    "    L_dot = np.zeros((n_f+1, n_f+1))\n",
    "    G_dot_L = np.zeros((n_f+1, n_f+1))\n",
    "    for i in range(n_f+1):\n",
    "        for j in range(n_f+1):\n",
    "            L_dot[i,j] = min(i,j)*(min(i,j)+1)*((i+j)%2==0)\n",
    "            G_dot_L[i,j] = quad(func=lambda x: self.G_x(x)*self.legendre_family[j](x)*self.legendre_family_diff[i](x), a=-1, b=1)[0]\n",
    "    Lambda = np.zeros((n_f-1, n_f-1))\n",
    "    Theta1 = np.zeros((n_f-1, n_f-1))\n",
    "    for i in range(n_f-1):\n",
    "        for j in range(n_f-1):\n",
    "            Lambda[i,j] = self.v*self._update_with_boundary_conditions(i, j, L_dot)\n",
    "            Theta1[i,j] = self._update_with_boundary_conditions(i, j, G_dot_L)\n",
    "    return -(Lambda + Theta1)\n",
    "\n",
    "def _discretize_N(self, n_f, lim1=-0.99, lim2=0.99):\n",
    "    alpha_dot_L = np.zeros((n_f+1, n_f+1))\n",
    "    for i in range(n_f+1):\n",
    "        for j in range(n_f+1):\n",
    "            alpha_dot_L[i,j] = quad(func=lambda x: self.legendre_family[j](x)*self.legendre_family_diff[i](x), a=lim1, b=lim2)[0]\n",
    "    Theta2 = np.zeros((n_f-1, n_f-1))\n",
    "    for i in range(n_f-1):\n",
    "        for j in range(n_f-1):\n",
    "            Theta2[i,j] = self._update_with_boundary_conditions(i, j, alpha_dot_L)\n",
    "    return -Theta2\n",
    "\n",
    "def _discretize_B(self, n_f, lim1=-0.99, lim2=0.99):\n",
    "    steady_L = np.zeros(n_f+1)\n",
    "    for i in range(n_f+1):\n",
    "        steady_L[i] = quad(func=lambda x: self.p_infty(x)*self.legendre_family_diff[i](x), a=lim1, b=lim2)[0]\n",
    "    B = np.zeros((n_f-1,1))\n",
    "    for i in range(n_f-1):\n",
    "        B[i,0] = -(steady_L[i] + self.coef[i,0]*steady_L[i+1] + self.coef[i,1]*steady_L[i+2])\n",
    "    return B\n",
    "\n",
    "def _discretize_initial_condition(self, n_f, Phi):\n",
    "    y0 = lambda x: self.p0(x) - self.p_infty(x)\n",
    "    y0_L = np.zeros(n_f+1)\n",
    "    for i in range(n_f+1):\n",
    "        y0_L[i] = quad(func=lambda x: y0(x)*self.legendre_family[i](x), a=-1, b=1)[0]\n",
    "    b = np.zeros(n_f-1)\n",
    "    for i in range(n_f-1):\n",
    "        b[i] = y0_L[i] + self.coef[i,0]*y0_L[i+1] + self.coef[i,1]*y0_L[i+2]\n",
    "    y0 = np.linalg.solve(Phi, b)\n",
    "    return y0\n",
    "    \n",
    "ControlFPequation._solve_system_coefs_spectral_legendre = _solve_system_coefs_spectral_legendre\n",
    "ControlFPequation._discretize_Phi = _discretize_Phi\n",
    "ControlFPequation._discretize_A = _discretize_A\n",
    "ControlFPequation._discretize_N = _discretize_N\n",
    "ControlFPequation._discretize_B = _discretize_B\n",
    "ControlFPequation._discretize_initial_condition = _discretize_initial_condition"
   ]
  },
  {
   "cell_type": "markdown",
   "id": "2b2445ae-981e-4de0-9788-5813bede8efb",
   "metadata": {},
   "source": [
    "After the pre-calculation step, we can define the solving function."
   ]
  },
  {
   "cell_type": "code",
   "execution_count": 65,
   "id": "013e8f05-3aa5-43e9-ac7d-61656e41c649",
   "metadata": {
    "collapsed": true
   },
   "outputs": [],
   "source": [
    "def _solve1d_edo(self, n_f, N_x, N_t, lim1=None, lim2=None, controlled=True):\n",
    "    \n",
    "    self.legendre_family = [legendre(k) for k in range(n_f+1)]\n",
    "    self.legendre_family_diff = [np.polyder(poly, 1) for poly in self.legendre_family]\n",
    "    self.coef = self._solve_system_coefs_spectral_legendre(n_f, self.G_x(-1.0), self.G_x(1.0))\n",
    "    \n",
    "    h_t = self.T/N_t\n",
    "    h_x = 2/N_x\n",
    "    \n",
    "    if self.Phi is None:\n",
    "        self.Phi = self._discretize_Phi(n_f)\n",
    "        self.Phi_inv = np.linalg.inv(self.Phi)\n",
    "        self.A = self._discretize_A(n_f)\n",
    "        self.y0 = self._discretize_initial_condition(n_f, self.Phi)\n",
    "            \n",
    "    if controlled:\n",
    "        B = self._discretize_B(n_f, lim1, lim2)\n",
    "        N = self._discretize_N(n_f, lim1, lim2)\n",
    "        Pi = solve_continuous_are(a=self.A, b=B, q=self.Phi, r=1)\n",
    "        U = -B.T@Pi\n",
    "        \n",
    "        y_vec = np.zeros((N_t+1, n_f-1))\n",
    "        y_vec[0,:] = self.y0\n",
    "        sol = ode(lambda t,y: self.Phi_inv@(self.A + N * (U@y) + B@U)@y)\n",
    "        sol.set_initial_value(self.y0, 0.0)\n",
    "        sol.set_integrator('lsoda')\n",
    "        for i in range(1, N_t+1):\n",
    "            y_vec[i,:] = sol.integrate(h_t)\n",
    "        control = U@y_vec.T\n",
    "        \n",
    "    else:\n",
    "        sol = solve_ivp(fun=lambda t,y: self.Phi_inv@self.A@y,\n",
    "                        t_span=(0,self.T), \n",
    "                        t_eval=np.linspace(0,self.T, N_t+1),\n",
    "                        y0=self.y0)\n",
    "        control = np.zeros((1,N_t+1))\n",
    "    return y_vec, control[0]\n",
    "\n",
    "def solve1d(self, n_f, N_x, N_t, lim1=None, lim2=None, controlled=True):\n",
    "    \n",
    "    y_vec, control = self._solve1d_edo(n_f, N_x, N_t, lim1, lim2, controlled)\n",
    "    phi_matrix = np.zeros((n_f-1, N_x+1))\n",
    "    x = np.arange(-1.0, 1.0+1.8/N_x, 2/N_x)\n",
    "    for k in range(n_f-1):\n",
    "        phi_matrix[k,:] = self.legendre_family[k](x) + self.coef[k,0]*self.legendre_family[k+1](x) + self.coef[k,1]*self.legendre_family[k+2](x)\n",
    "    y = y_vec @ phi_matrix\n",
    "    return y, control\n",
    "    \n",
    "ControlFPequation._solve1d_edo = _solve1d_edo\n",
    "ControlFPequation.solve1d = solve1d"
   ]
  },
  {
   "cell_type": "markdown",
   "id": "8127e57b-55d8-45ed-923d-ce50d53700e9",
   "metadata": {},
   "source": [
    "Now we want to estimate the control function \n",
    "\n",
    "$$\n",
    "\\frac{1}{2}\\int_0^{+\\infty} \\int_{-1}^1 |y(x,t)|^2 dx + u(t)^2 dt\n",
    "$$\n",
    "\n",
    "Notice that \n",
    "\n",
    "$$\n",
    "\\int_{-1}^1 |y(x,t)|^2 \\approx \\sum_{i=0}^{n-2} \\sum_{j=0}^{n-2} y_i(t) y_j(t) \\Phi_{ij} = y(t)^T \\Phi y(t).\n",
    "$$\n",
    "\n",
    "and \n",
    "\n",
    "$$\n",
    "u(t)^2 = (B^T\\Pi y(t))^T(B^T\\Pi y(t)) = y(t)^T (\\Pi^T B B^T \\Pi) y(t)\n",
    "$$\n",
    "\n",
    "Then,\n",
    "\n",
    "$$\n",
    "\\frac{1}{2}\\int_0^{+\\infty} y(t)^T (\\Phi + \\Pi^T B B^T \\Pi) y(t) dt \\approx \\frac{T}{2(N_T+1)}\\sum_{i=0}^{N_T} y(t_i)^T (\\Phi + \\Pi^T B B^T \\Pi) y(t_i) dt\n",
    "$$"
   ]
  },
  {
   "cell_type": "code",
   "execution_count": 66,
   "id": "accaeeb2-527c-46c8-b9fb-13efb93718c0",
   "metadata": {
    "collapsed": true
   },
   "outputs": [],
   "source": [
    "def estimate_cost(self, n_f, N_t, lim1=None, lim2=None, controlled=True):\n",
    "    \n",
    "    self.legendre_family = [legendre(k) for k in range(n_f+1)]\n",
    "    self.legendre_family_diff = [np.polyder(poly, 1) for poly in self.legendre_family]\n",
    "    self.coef = self._solve_system_coefs_spectral_legendre(n_f, self.G_x(-1.0), self.G_x(1.0))\n",
    "    \n",
    "    h_t = self.T/N_t\n",
    "    \n",
    "    if self.Phi is None:\n",
    "        self.Phi = self._discretize_Phi(n_f)\n",
    "        self.Phi_inv = np.linalg.inv(self.Phi)\n",
    "        self.A = self._discretize_A(n_f)\n",
    "        self.y0 = self._discretize_initial_condition(n_f, self.Phi)\n",
    "            \n",
    "    if controlled:\n",
    "        B = self._discretize_B(n_f, lim1, lim2)\n",
    "        N = self._discretize_N(n_f, lim1, lim2)\n",
    "        Pi = solve_continuous_are(a=self.A, b=B, q=self.Phi, r=1)\n",
    "        U = -B.T@Pi\n",
    "        \n",
    "        y_vec = np.zeros((N_t+1, n_f-1))\n",
    "        y_vec[0,:] = self.y0\n",
    "        sol = ode(lambda t,y: self.Phi_inv@(self.A + N * (U@y) + B@U)@y)\n",
    "        sol.set_initial_value(self.y0, 0.0)\n",
    "        sol.set_integrator('lsoda')\n",
    "        for i in range(1, N_t+1):\n",
    "            y_vec[i,:] = sol.integrate(h_t)\n",
    "        \n",
    "        #y_vec = np.zeros((N_t+1, n_f-1))\n",
    "        #y_vec[0,:] = self.y0\n",
    "        #func = lambda x, a: (self.Phi - h_t*self.A  - h_t*B@U)@x - h_t*(U@x)*(N@x) - self.Phi@a\n",
    "        #for i in range(1, N_t+1):\n",
    "        #   y_vec[i,:] = newton(func, x0=y_vec[i-1,:], args=(y_vec[i-1,:],), maxiter=1000)\n",
    "        \n",
    "        control = U@y_vec.T\n",
    "            \n",
    "    else:\n",
    "        y_vec = solve_ivp(fun=lambda t,y: self.Phi_inv@self.A@y,\n",
    "                        t_span=(0,self.T), \n",
    "                        t_eval=np.linspace(0,self.T, N_t+1),\n",
    "                        y0=self.y0)\n",
    "        \n",
    "    cost = 0\n",
    "    for i in range(N_t+1):\n",
    "        cost += y_vec[[i],:]@(self.Phi + U.T@U)@y_vec[[i],:].T\n",
    "    cost *= self.T\n",
    "    cost /= (2*N_t+2)\n",
    "    \n",
    "    return cost, control"
   ]
  },
  {
   "cell_type": "markdown",
   "id": "5bca1d71-bb19-4f0d-a400-eb4aad272d68",
   "metadata": {},
   "source": [
    "And now we plot it."
   ]
  },
  {
   "cell_type": "code",
   "execution_count": 51,
   "id": "61f3e2d0-d655-4d62-afb9-e8e865bf4f26",
   "metadata": {
    "collapsed": true
   },
   "outputs": [
    {
     "name": "stderr",
     "output_type": "stream",
     "text": [
      "100%|████████████████████████████████████████████████████████████████████████████████████| 7/7 [00:47<00:00,  6.78s/it]\n",
      "7it [00:00, 854.04it/s]\n"
     ]
    },
    {
     "data": {
      "image/png": "[encoded data removed]",
      "text/plain": [
       "<Figure size 432x288 with 2 Axes>"
      ]
     },
     "metadata": {
      "needs_background": "light"
     },
     "output_type": "display_data"
    }
   ],
   "source": [
    "h = 0.2\n",
    "omega_values = np.arange(-1+2*h,1-h,h)\n",
    "G_func = lambda x: x**2\n",
    "p_0 = lambda x: 0.5*beta(10,10).pdf(x/2+1/2)\n",
    "interval = [-1.0, 1.0]\n",
    "parameters = {'v': 0.1, 'T': 10.0, 'p_0': p_0, 'interval': interval}\n",
    "cost_values = []\n",
    "\n",
    "alpha_func = None\n",
    "FP_equation = ControlFPequation(G_func, alpha_func, parameters)\n",
    "FP_equation.G_x = lambda x: 2*x\n",
    "FP_equation.alpha = lambda x: x * (omega - 0.5*h <= x) * (omega + 0.5*h >= x)\n",
    "FP_equation.alpha_x = lambda x: 1*(omega - 0.5*h <= x) * (omega + 0.5*h >= x)\n",
    "\n",
    "controls = []\n",
    "\n",
    "for omega in tqdm(omega_values):\n",
    "    cost, control = estimate_cost(FP_equation, n_f=15, N_t=100000, lim1=omega-0.5*h, lim2=omega+0.5*h, controlled=True)\n",
    "    cost_values.append(cost)\n",
    "    controls.append(control)\n",
    "\n",
    "fig, ax1 = plt.subplots()\n",
    "\n",
    "color = 'red'\n",
    "ax1.set_xlabel(r'$\\omega$')\n",
    "ax1.set_ylabel(r'$y_0$', color=color)\n",
    "x = np.linspace(-1,1,1000)\n",
    "ax1.plot(x, p_0(x)-FP_equation.p_infty(x), \n",
    "         label='Initial condition for y', color=color)\n",
    "ax1.tick_params(axis='y', labelcolor=color)\n",
    "ax2 = ax1.twinx()\n",
    "\n",
    "color = 'blue'\n",
    "ax2.set_ylabel('J(y,u)', color=color)\n",
    "for i, omega in tqdm(enumerate(omega_values)):\n",
    "    if i != 0:\n",
    "        label = ''\n",
    "    else:\n",
    "        label = 'Cost'\n",
    "    ax2.hlines(cost_values[i], xmin=omega-h/2, xmax=omega+h/2, label=label, color=color)\n",
    "ax2.tick_params(axis='y', labelcolor=color)\n",
    "\n",
    "fig.legend()\n",
    "plt.show()"
   ]
  },
  {
   "cell_type": "code",
   "execution_count": 53,
   "id": "3f80df9d",
   "metadata": {
    "collapsed": true
   },
   "outputs": [
    {
     "data": {
      "image/png": "[encoded data removed]",
      "text/plain": [
       "<Figure size 432x288 with 1 Axes>"
      ]
     },
     "metadata": {
      "needs_background": "light"
     },
     "output_type": "display_data"
    }
   ],
   "source": [
    "t = np.linspace(0, 10, 100001)\n",
    "plt.plot(t[:100], controls[1][0][0:100])\n",
    "plt.show()"
   ]
  },
  {
   "cell_type": "code",
   "execution_count": 70,
   "id": "c04a5ed6",
   "metadata": {
    "collapsed": true
   },
   "outputs": [
    {
     "ename": "LinAlgError",
     "evalue": "Failed to find a finite solution.",
     "output_type": "error",
     "traceback": [
      "\u001b[1;31m---------------------------------------------------------------------------\u001b[0m",
      "\u001b[1;31mLinAlgError\u001b[0m                               Traceback (most recent call last)",
      "Input \u001b[1;32mIn [70]\u001b[0m, in \u001b[0;36m<cell line: 13>\u001b[1;34m()\u001b[0m\n\u001b[0;32m     10\u001b[0m FP_equation\u001b[38;5;241m.\u001b[39malpha \u001b[38;5;241m=\u001b[39m \u001b[38;5;28;01mlambda\u001b[39;00m x: x \u001b[38;5;241m*\u001b[39m (\u001b[38;5;241m-\u001b[39m\u001b[38;5;241m0.6\u001b[39m \u001b[38;5;241m-\u001b[39m \u001b[38;5;241m0.5\u001b[39m\u001b[38;5;241m*\u001b[39mh \u001b[38;5;241m<\u001b[39m\u001b[38;5;241m=\u001b[39m x) \u001b[38;5;241m*\u001b[39m (\u001b[38;5;241m-\u001b[39m\u001b[38;5;241m0.6\u001b[39m \u001b[38;5;241m+\u001b[39m \u001b[38;5;241m0.5\u001b[39m\u001b[38;5;241m*\u001b[39mh \u001b[38;5;241m>\u001b[39m\u001b[38;5;241m=\u001b[39m x)\n\u001b[0;32m     11\u001b[0m FP_equation\u001b[38;5;241m.\u001b[39malpha_x \u001b[38;5;241m=\u001b[39m \u001b[38;5;28;01mlambda\u001b[39;00m x: \u001b[38;5;241m1\u001b[39m\u001b[38;5;241m*\u001b[39m(\u001b[38;5;241m-\u001b[39m\u001b[38;5;241m0.6\u001b[39m \u001b[38;5;241m-\u001b[39m \u001b[38;5;241m0.5\u001b[39m\u001b[38;5;241m*\u001b[39mh \u001b[38;5;241m<\u001b[39m\u001b[38;5;241m=\u001b[39m x) \u001b[38;5;241m*\u001b[39m (\u001b[38;5;241m-\u001b[39m\u001b[38;5;241m0.6\u001b[39m \u001b[38;5;241m+\u001b[39m \u001b[38;5;241m0.5\u001b[39m\u001b[38;5;241m*\u001b[39mh \u001b[38;5;241m>\u001b[39m\u001b[38;5;241m=\u001b[39m x)\n\u001b[1;32m---> 13\u001b[0m y, u \u001b[38;5;241m=\u001b[39m \u001b[43mFP_equation\u001b[49m\u001b[38;5;241;43m.\u001b[39;49m\u001b[43msolve1d\u001b[49m\u001b[43m(\u001b[49m\u001b[43mn_f\u001b[49m\u001b[38;5;241;43m=\u001b[39;49m\u001b[38;5;241;43m15\u001b[39;49m\u001b[43m,\u001b[49m\u001b[43m \u001b[49m\u001b[43mN_x\u001b[49m\u001b[38;5;241;43m=\u001b[39;49m\u001b[38;5;241;43m200\u001b[39;49m\u001b[43m,\u001b[49m\u001b[43m \u001b[49m\u001b[43mN_t\u001b[49m\u001b[38;5;241;43m=\u001b[39;49m\u001b[38;5;241;43m100000\u001b[39;49m\u001b[43m,\u001b[49m\u001b[43m \u001b[49m\u001b[43mlim1\u001b[49m\u001b[38;5;241;43m=\u001b[39;49m\u001b[38;5;241;43m0.0\u001b[39;49m\u001b[43m,\u001b[49m\u001b[43m \u001b[49m\u001b[43mlim2\u001b[49m\u001b[38;5;241;43m=\u001b[39;49m\u001b[38;5;241;43m0.0\u001b[39;49m\u001b[43m,\u001b[49m\u001b[43m \u001b[49m\u001b[43mcontrolled\u001b[49m\u001b[38;5;241;43m=\u001b[39;49m\u001b[38;5;28;43;01mTrue\u001b[39;49;00m\u001b[43m)\u001b[49m\n",
      "Input \u001b[1;32mIn [65]\u001b[0m, in \u001b[0;36msolve1d\u001b[1;34m(self, n_f, N_x, N_t, lim1, lim2, controlled)\u001b[0m\n\u001b[0;32m     39\u001b[0m \u001b[38;5;28;01mdef\u001b[39;00m \u001b[38;5;21msolve1d\u001b[39m(\u001b[38;5;28mself\u001b[39m, n_f, N_x, N_t, lim1\u001b[38;5;241m=\u001b[39m\u001b[38;5;28;01mNone\u001b[39;00m, lim2\u001b[38;5;241m=\u001b[39m\u001b[38;5;28;01mNone\u001b[39;00m, controlled\u001b[38;5;241m=\u001b[39m\u001b[38;5;28;01mTrue\u001b[39;00m):\n\u001b[1;32m---> 41\u001b[0m     y_vec, control \u001b[38;5;241m=\u001b[39m \u001b[38;5;28;43mself\u001b[39;49m\u001b[38;5;241;43m.\u001b[39;49m\u001b[43m_solve1d_edo\u001b[49m\u001b[43m(\u001b[49m\u001b[43mn_f\u001b[49m\u001b[43m,\u001b[49m\u001b[43m \u001b[49m\u001b[43mN_x\u001b[49m\u001b[43m,\u001b[49m\u001b[43m \u001b[49m\u001b[43mN_t\u001b[49m\u001b[43m,\u001b[49m\u001b[43m \u001b[49m\u001b[43mlim1\u001b[49m\u001b[43m,\u001b[49m\u001b[43m \u001b[49m\u001b[43mlim2\u001b[49m\u001b[43m,\u001b[49m\u001b[43m \u001b[49m\u001b[43mcontrolled\u001b[49m\u001b[43m)\u001b[49m\n\u001b[0;32m     42\u001b[0m     phi_matrix \u001b[38;5;241m=\u001b[39m np\u001b[38;5;241m.\u001b[39mzeros((n_f\u001b[38;5;241m-\u001b[39m\u001b[38;5;241m1\u001b[39m, N_x\u001b[38;5;241m+\u001b[39m\u001b[38;5;241m1\u001b[39m))\n\u001b[0;32m     43\u001b[0m     x \u001b[38;5;241m=\u001b[39m np\u001b[38;5;241m.\u001b[39marange(\u001b[38;5;241m-\u001b[39m\u001b[38;5;241m1.0\u001b[39m, \u001b[38;5;241m1.0\u001b[39m\u001b[38;5;241m+\u001b[39m\u001b[38;5;241m1.8\u001b[39m\u001b[38;5;241m/\u001b[39mN_x, \u001b[38;5;241m2\u001b[39m\u001b[38;5;241m/\u001b[39mN_x)\n",
      "Input \u001b[1;32mIn [65]\u001b[0m, in \u001b[0;36m_solve1d_edo\u001b[1;34m(self, n_f, N_x, N_t, lim1, lim2, controlled)\u001b[0m\n\u001b[0;32m     17\u001b[0m B \u001b[38;5;241m=\u001b[39m \u001b[38;5;28mself\u001b[39m\u001b[38;5;241m.\u001b[39m_discretize_B(n_f, lim1, lim2)\n\u001b[0;32m     18\u001b[0m N \u001b[38;5;241m=\u001b[39m \u001b[38;5;28mself\u001b[39m\u001b[38;5;241m.\u001b[39m_discretize_N(n_f, lim1, lim2)\n\u001b[1;32m---> 19\u001b[0m Pi \u001b[38;5;241m=\u001b[39m \u001b[43msolve_continuous_are\u001b[49m\u001b[43m(\u001b[49m\u001b[43ma\u001b[49m\u001b[38;5;241;43m=\u001b[39;49m\u001b[38;5;28;43mself\u001b[39;49m\u001b[38;5;241;43m.\u001b[39;49m\u001b[43mA\u001b[49m\u001b[43m,\u001b[49m\u001b[43m \u001b[49m\u001b[43mb\u001b[49m\u001b[38;5;241;43m=\u001b[39;49m\u001b[43mB\u001b[49m\u001b[43m,\u001b[49m\u001b[43m \u001b[49m\u001b[43mq\u001b[49m\u001b[38;5;241;43m=\u001b[39;49m\u001b[38;5;28;43mself\u001b[39;49m\u001b[38;5;241;43m.\u001b[39;49m\u001b[43mPhi\u001b[49m\u001b[43m,\u001b[49m\u001b[43m \u001b[49m\u001b[43mr\u001b[49m\u001b[38;5;241;43m=\u001b[39;49m\u001b[38;5;241;43m1\u001b[39;49m\u001b[43m)\u001b[49m\n\u001b[0;32m     20\u001b[0m U \u001b[38;5;241m=\u001b[39m \u001b[38;5;241m-\u001b[39mB\u001b[38;5;241m.\u001b[39mT\u001b[38;5;129m@Pi\u001b[39m\n\u001b[0;32m     22\u001b[0m y_vec \u001b[38;5;241m=\u001b[39m np\u001b[38;5;241m.\u001b[39mzeros((N_t\u001b[38;5;241m+\u001b[39m\u001b[38;5;241m1\u001b[39m, n_f\u001b[38;5;241m-\u001b[39m\u001b[38;5;241m1\u001b[39m))\n",
      "File \u001b[1;32m~\\anaconda3\\envs\\pde-env\\lib\\site-packages\\scipy\\linalg\\_solvers.py:503\u001b[0m, in \u001b[0;36msolve_continuous_are\u001b[1;34m(a, b, q, r, e, s, balanced)\u001b[0m\n\u001b[0;32m    501\u001b[0m up, ul, uu \u001b[38;5;241m=\u001b[39m lu(u00)\n\u001b[0;32m    502\u001b[0m \u001b[38;5;28;01mif\u001b[39;00m \u001b[38;5;241m1\u001b[39m\u001b[38;5;241m/\u001b[39mcond(uu) \u001b[38;5;241m<\u001b[39m np\u001b[38;5;241m.\u001b[39mspacing(\u001b[38;5;241m1.\u001b[39m):\n\u001b[1;32m--> 503\u001b[0m     \u001b[38;5;28;01mraise\u001b[39;00m LinAlgError(\u001b[38;5;124m'\u001b[39m\u001b[38;5;124mFailed to find a finite solution.\u001b[39m\u001b[38;5;124m'\u001b[39m)\n\u001b[0;32m    505\u001b[0m \u001b[38;5;66;03m# Exploit the triangular structure\u001b[39;00m\n\u001b[0;32m    506\u001b[0m x \u001b[38;5;241m=\u001b[39m solve_triangular(ul\u001b[38;5;241m.\u001b[39mconj()\u001b[38;5;241m.\u001b[39mT,\n\u001b[0;32m    507\u001b[0m                      solve_triangular(uu\u001b[38;5;241m.\u001b[39mconj()\u001b[38;5;241m.\u001b[39mT,\n\u001b[0;32m    508\u001b[0m                                       u10\u001b[38;5;241m.\u001b[39mconj()\u001b[38;5;241m.\u001b[39mT,\n\u001b[0;32m    509\u001b[0m                                       lower\u001b[38;5;241m=\u001b[39m\u001b[38;5;28;01mTrue\u001b[39;00m),\n\u001b[0;32m    510\u001b[0m                      unit_diagonal\u001b[38;5;241m=\u001b[39m\u001b[38;5;28;01mTrue\u001b[39;00m,\n\u001b[0;32m    511\u001b[0m                      )\u001b[38;5;241m.\u001b[39mconj()\u001b[38;5;241m.\u001b[39mT\u001b[38;5;241m.\u001b[39mdot(up\u001b[38;5;241m.\u001b[39mconj()\u001b[38;5;241m.\u001b[39mT)\n",
      "\u001b[1;31mLinAlgError\u001b[0m: Failed to find a finite solution."
     ]
    }
   ],
   "source": [
    "h = 0.6\n",
    "G_func = lambda x: x**2\n",
    "p_0 = lambda x: 0.5*beta(10,10).pdf(x/2+1/2)\n",
    "interval = [-1.0, 1.0]\n",
    "parameters = {'v': 0.1, 'T': 10.0, 'p_0': p_0, 'interval': interval}\n",
    "\n",
    "alpha_func = None\n",
    "FP_equation = ControlFPequation(G_func, alpha_func, parameters)\n",
    "FP_equation.G_x = lambda x: 2*x\n",
    "FP_equation.alpha = lambda x: x * (-0.6 - 0.5*h <= x) * (-0.6 + 0.5*h >= x)\n",
    "FP_equation.alpha_x = lambda x: 1*(-0.6 - 0.5*h <= x) * (-0.6 + 0.5*h >= x)\n",
    "\n",
    "y, u = FP_equation.solve1d(n_f=15, N_x=200, N_t=100000, lim1=0.0, lim2=0.0, controlled=True)"
   ]
  },
  {
   "cell_type": "code",
   "execution_count": 69,
   "id": "0a94c1a9",
   "metadata": {
    "collapsed": true
   },
   "outputs": [
    {
     "data": {
      "image/png": "[encoded data removed]",
      "text/plain": [
       "<Figure size 432x288 with 1 Axes>"
      ]
     },
     "metadata": {
      "needs_background": "light"
     },
     "output_type": "display_data"
    }
   ],
   "source": [
    "x = np.linspace(-1, 1, 201)\n",
    "t = np.linspace(0, 10, 100001)\n",
    "X, T = np.meshgrid(x,t)\n",
    "\n",
    "ax = plt.axes(projection='3d')\n",
    "ax.plot_surface(X, T, y)\n",
    "ax.set_xlabel('x')\n",
    "ax.set_ylabel('t')\n",
    "ax.set_zlabel('y')\n",
    "plt.show()"
   ]
  },
  {
   "cell_type": "code",
   "execution_count": null,
   "id": "c330b712",
   "metadata": {
    "collapsed": true
   },
   "outputs": [],
   "source": []
  }
 ],
 "metadata": {
  "kernelspec": {
   "display_name": "pdeEnv",
   "language": "python",
   "name": "pdeenv"
  },
  "language_info": {
   "codemirror_mode": {
    "name": "ipython",
    "version": 3
   },
   "file_extension": ".py",
   "mimetype": "text/x-python",
   "name": "python",
   "nbconvert_exporter": "python",
   "pygments_lexer": "ipython3",
   "version": "3.10.6"
  }
 },
 "nbformat": 4,
 "nbformat_minor": 5
}
