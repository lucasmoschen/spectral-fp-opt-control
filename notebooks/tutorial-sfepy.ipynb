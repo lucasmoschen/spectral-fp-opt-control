{
 "cells": [
  {
   "cell_type": "markdown",
   "id": "e8c1c8ff-4229-4a95-a40f-aecb0acdf024",
   "metadata": {},
   "source": [
    "# Tutorial Sfepy\n",
    "\n",
    "https://sfepy.org/doc-devel/tutorial.html#"
   ]
  },
  {
   "cell_type": "code",
   "execution_count": null,
   "id": "72f0a221-c532-4949-90a9-e672658d5df6",
   "metadata": {},
   "outputs": [],
   "source": [
    "import numpy as np\n",
    "import matplotlib.pyplot as plt\n",
    "from sfepy.discrete.fem import Mesh, FEDomain, Field\n",
    "from sfepy import data_dir\n",
    "import os"
   ]
  },
  {
   "cell_type": "markdown",
   "id": "80df212e-f75d-4d56-810f-28d973b96126",
   "metadata": {},
   "source": [
    "Finite element mesh"
   ]
  },
  {
   "cell_type": "code",
   "execution_count": 26,
   "id": "982de614-2353-4ebd-9227-c5bd974e0016",
   "metadata": {},
   "outputs": [
    {
     "name": "stdout",
     "output_type": "stream",
     "text": [
      "sfepy:         reading mesh (C:\\Users\\lucas\\anaconda3\\envs\\pde-env\\Lib\\site-packages\\sfepy\\meshes\\2d\\rectangle_tri.mesh)...\n",
      "sfepy:           number of vertices: 258\n",
      "sfepy:           number of cells:\n",
      "sfepy:             2_3: 454\n",
      "sfepy:         ...done in 0.00 s\n"
     ]
    },
    {
     "data": {
      "image/png": "[encoded data removed]",
      "text/plain": [
       "<Figure size 432x288 with 1 Axes>"
      ]
     },
     "metadata": {
      "needs_background": "light"
     },
     "output_type": "display_data"
    }
   ],
   "source": [
    "mesh = Mesh.from_file(os.path.join(data_dir, 'meshes', '2d', 'rectangle_tri.mesh'))\n",
    "plt.scatter(mesh.coors[:,0], mesh.coors[:,1], s=3, color='k')\n",
    "plt.show()"
   ]
  },
  {
   "cell_type": "markdown",
   "id": "c58764b5-818e-4c20-8b3c-8460af55b9ab",
   "metadata": {},
   "source": [
    "Creating the domain"
   ]
  },
  {
   "cell_type": "code",
   "execution_count": 27,
   "id": "304d5912-870b-45e2-bb70-3e07ca0b1a23",
   "metadata": {},
   "outputs": [],
   "source": [
    "domain = FEDomain('domain', mesh)"
   ]
  },
  {
   "cell_type": "markdown",
   "id": "143e245e-0924-44f0-baa7-9d01682f40b2",
   "metadata": {},
   "source": [
    "Defining the space $\\Omega$ and the boundary $\\Gamma_1, \\Gamma_2$"
   ]
  },
  {
   "cell_type": "code",
   "execution_count": 31,
   "id": "e87e7989-61fa-4dd9-9c12-e8a48f67aa5c",
   "metadata": {},
   "outputs": [],
   "source": [
    "min_x, max_x = domain.get_mesh_bounding_box()[:, 0]\n",
    "eps = 1e-8 * (max_x - min_x)\n",
    "omega = domain.create_region('Omega', 'all')\n",
    "gamma1 = domain.create_region('Gamma1',\n",
    "                              'vertices in x < %.10f' % (min_x + eps),\n",
    "                              'facet')\n",
    "gamma2 = domain.create_region('Gamma2',\n",
    "                              'vertices in x > %.10f' % (max_x - eps),\n",
    "                              'facet')"
   ]
  },
  {
   "cell_type": "markdown",
   "id": "1102b8b8-c08f-4475-8821-b9c14e95d586",
   "metadata": {},
   "source": [
    "The Field commmand creates the finite elements approximation"
   ]
  },
  {
   "cell_type": "code",
   "execution_count": 32,
   "id": "abace478-d817-4fbe-ac1f-b05c0d35f37d",
   "metadata": {},
   "outputs": [],
   "source": [
    "field = Field.from_args('fu', np.float64, 'vector', omega,\n",
    "                        approx_order=2)"
   ]
  },
  {
   "cell_type": "code",
   "execution_count": 38,
   "id": "695e0e66-88ae-4bf9-abee-a3857ea2e52e",
   "metadata": {},
   "outputs": [
    {
     "data": {
      "text/plain": [
       "array([[ -5.        , -10.        ],\n",
       "       [  5.        , -10.        ],\n",
       "       [ -4.        , -10.        ],\n",
       "       ...,\n",
       "       [ -0.28636101,  -0.19847234],\n",
       "       [  0.40018926,   0.27400907],\n",
       "       [  0.05715114,   0.03915021]])"
      ]
     },
     "execution_count": 38,
     "metadata": {},
     "output_type": "execute_result"
    }
   ],
   "source": [
    "field."
   ]
  },
  {
   "cell_type": "code",
   "execution_count": null,
   "id": "0513ab3b-bffc-444f-b873-64f671f4c44f",
   "metadata": {},
   "outputs": [],
   "source": []
  }
 ],
 "metadata": {
  "kernelspec": {
   "display_name": "pdeEnv",
   "language": "python",
   "name": "pdeenv"
  },
  "language_info": {
   "codemirror_mode": {
    "name": "ipython",
    "version": 3
   },
   "file_extension": ".py",
   "mimetype": "text/x-python",
   "name": "python",
   "nbconvert_exporter": "python",
   "pygments_lexer": "ipython3",
   "version": "3.10.6"
  }
 },
 "nbformat": 4,
 "nbformat_minor": 5
}
